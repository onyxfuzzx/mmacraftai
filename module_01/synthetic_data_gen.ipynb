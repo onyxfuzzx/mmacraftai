{
 "cells": [
  {
   "cell_type": "code",
   "execution_count": 2,
   "id": "29c54074",
   "metadata": {},
   "outputs": [
    {
     "name": "stdout",
     "output_type": "stream",
     "text": [
      "Requirement already satisfied: pandas in c:\\users\\zaid\\appdata\\local\\programs\\python\\python310\\lib\\site-packages (2.3.1)\n",
      "Requirement already satisfied: Faker in c:\\users\\zaid\\appdata\\local\\programs\\python\\python310\\lib\\site-packages (37.4.2)\n",
      "Requirement already satisfied: numpy in c:\\users\\zaid\\appdata\\local\\programs\\python\\python310\\lib\\site-packages (1.26.4)\n",
      "Requirement already satisfied: python-dateutil>=2.8.2 in c:\\users\\zaid\\appdata\\roaming\\python\\python310\\site-packages (from pandas) (2.9.0.post0)\n",
      "Requirement already satisfied: pytz>=2020.1 in c:\\users\\zaid\\appdata\\local\\programs\\python\\python310\\lib\\site-packages (from pandas) (2025.2)\n",
      "Requirement already satisfied: tzdata>=2022.7 in c:\\users\\zaid\\appdata\\local\\programs\\python\\python310\\lib\\site-packages (from pandas) (2025.2)\n",
      "Requirement already satisfied: six>=1.5 in c:\\users\\zaid\\appdata\\roaming\\python\\python310\\site-packages (from python-dateutil>=2.8.2->pandas) (1.17.0)\n",
      "Note: you may need to restart the kernel to use updated packages.\n"
     ]
    }
   ],
   "source": [
    "pip install pandas Faker numpy"
   ]
  },
  {
   "cell_type": "code",
   "execution_count": 3,
   "id": "13a7de27",
   "metadata": {},
   "outputs": [],
   "source": [
    "import pandas as pd\n",
    "import numpy as np\n",
    "from faker import Faker\n",
    "import random\n",
    "from datetime import datetime, timedelta"
   ]
  },
  {
   "cell_type": "code",
   "execution_count": 4,
   "id": "85f0d4d9",
   "metadata": {},
   "outputs": [],
   "source": [
    "NUM_USERS = 1000\n",
    "NUM_EXERCISES = 150\n",
    "AVG_WORKOUTS_PER_USER = 15\n",
    "AVG_PROGRESS_ENTRIES_PER_USER = 10"
   ]
  },
  {
   "cell_type": "code",
   "execution_count": 5,
   "id": "18f5b34e",
   "metadata": {},
   "outputs": [],
   "source": [
    "fake = Faker('en_IN')"
   ]
  },
  {
   "cell_type": "code",
   "execution_count": 6,
   "id": "e6827413",
   "metadata": {},
   "outputs": [],
   "source": [
    "FITNESS_LEVELS = ['beginner', 'intermediate', 'advanced']\n",
    "PRIMARY_GOALS = ['weight_loss', 'muscle_gain', 'endurance', 'skill_boxing', 'general_fitness']\n",
    "EQUIPMENT_OPTIONS = ['bodyweight', 'dumbbells', 'resistance_bands', 'kettlebell', 'punching_bag']\n",
    "LANGUAGES = ['en', 'hi', 'mr']\n",
    "SUBSCRIPTION_STATUSES = ['free', 'premium', 'expired']\n",
    "EXERCISE_TYPES = ['strength', 'cardio', 'plyometric', 'stretch']\n",
    "MUSCLE_GROUPS = ['Chest', 'Back', 'Legs', 'Shoulders', 'Biceps', 'Triceps', 'Core', 'Full Body']"
   ]
  },
  {
   "cell_type": "code",
   "execution_count": 7,
   "id": "05e7b74f",
   "metadata": {},
   "outputs": [],
   "source": [
    "def generate_exercises(n):\n",
    "    print(\"Generating exercises data...\")\n",
    "    data = []\n",
    "    for i in range(n):\n",
    "        exercise_type = random.choice(EXERCISE_TYPES)\n",
    "        data.append({\n",
    "            'id': i + 1,\n",
    "            'exercise_name': fake.catch_phrase().title(), # Using catch_phrase for variety\n",
    "            'muscle_group': random.choice(MUSCLE_GROUPS),\n",
    "            'exercise_type': exercise_type,\n",
    "            'equipment_needed': 'bodyweight' if exercise_type == 'stretch' else random.choice(EQUIPMENT_OPTIONS[:4]),\n",
    "            'video_url': f'https://fightfit.ai/videos/ex_{i+1}.mp4',\n",
    "            'instructions': fake.paragraph(nb_sentences=3),\n",
    "            'difficulty_level': random.choice(FITNESS_LEVELS)\n",
    "        })\n",
    "    return pd.DataFrame(data)"
   ]
  },
  {
   "cell_type": "code",
   "execution_count": 8,
   "id": "5b1b6701",
   "metadata": {},
   "outputs": [],
   "source": [
    "def generate_users(n):\n",
    "    print(\"Generating users data...\")\n",
    "    data = []\n",
    "    for i in range(n):\n",
    "        data.append({\n",
    "            'id': i + 1,\n",
    "            'full_name': fake.name(),\n",
    "            'email': fake.unique.email(),\n",
    "            'password_hash': fake.sha256(),\n",
    "            'phone_number': fake.phone_number(),\n",
    "            'preferred_language': random.choice(LANGUAGES),\n",
    "            'subscription_status': np.random.choice(SUBSCRIPTION_STATUSES, p=[0.5, 0.4, 0.1]),\n",
    "            'subscription_expiry': fake.date_between(start_date='-30d', end_date='+1y'),\n",
    "            'created_at': fake.date_time_between(start_date='-2y', end_date='now'),\n",
    "            'updated_at': fake.date_time_this_month()\n",
    "        })\n",
    "    return pd.DataFrame(data)"
   ]
  },
  {
   "cell_type": "code",
   "execution_count": 9,
   "id": "c1bdb57f",
   "metadata": {},
   "outputs": [],
   "source": [
    "def generate_user_profiles(user_ids):\n",
    "    print(\"Generating user_profiles data...\")\n",
    "    data = []\n",
    "    for user_id in user_ids:\n",
    "        equipment_count = random.randint(1, 3)\n",
    "        data.append({\n",
    "            'id': user_id,\n",
    "            'user_id': user_id,\n",
    "            'age': random.randint(18, 65),\n",
    "            'gender': random.choice(['male', 'female']),\n",
    "            'height_cm': round(random.uniform(150.0, 190.0), 2),\n",
    "            'fitness_level': np.random.choice(FITNESS_LEVELS, p=[0.5, 0.4, 0.1]),\n",
    "            'primary_goal': np.random.choice(PRIMARY_GOALS, p=[0.4, 0.3, 0.1, 0.1, 0.1]),\n",
    "            'available_equipment': random.sample(EQUIPMENT_OPTIONS, equipment_count),\n",
    "            'days_per_week': random.choice([3, 4, 5]),\n",
    "            'time_per_session': random.choice([30, 45, 60]),\n",
    "            'medical_notes': 'None' if random.random() > 0.2 else 'Minor knee pain'\n",
    "        })\n",
    "    return pd.DataFrame(data)"
   ]
  },
  {
   "cell_type": "code",
   "execution_count": 10,
   "id": "6d2867f7",
   "metadata": {},
   "outputs": [],
   "source": [
    "def generate_workout_logs_and_details(user_ids, exercises_df):\n",
    "    print(\"Generating workout logs and details data...\")\n",
    "    logs_data = []\n",
    "    details_data = []\n",
    "    log_id_counter = 1\n",
    "    detail_id_counter = 1\n",
    "\n",
    "    for user_id in user_ids:\n",
    "        num_logs = random.randint(5, AVG_WORKOUTS_PER_USER + 10)\n",
    "        for _ in range(num_logs):\n",
    "            log_date = fake.date_time_between(start_date='-1y', end_date='now')\n",
    "            logs_data.append({\n",
    "                'id': log_id_counter,\n",
    "                'user_id': user_id,\n",
    "                'workout_name': f'{random.choice(MUSCLE_GROUPS)} Day',\n",
    "                'log_date': log_date.date(),\n",
    "                'duration_minutes': random.randint(25, 65),\n",
    "                'perceived_exertion': random.randint(4, 9),\n",
    "                'user_notes': 'Felt good!' if random.random() > 0.3 else 'Tough one today.'\n",
    "            })\n",
    "            \n",
    "            # Generate details for this log\n",
    "            num_exercises_in_log = random.randint(5, 8)\n",
    "            for i in range(num_exercises_in_log):\n",
    "                exercise = exercises_df.sample(1).iloc[0]\n",
    "                detail = {\n",
    "                    'id': detail_id_counter,\n",
    "                    'log_id': log_id_counter,\n",
    "                    'exercise_id': exercise['id'],\n",
    "                    'set_number': i + 1,\n",
    "                    'reps_completed': None,\n",
    "                    'weight_kg': None,\n",
    "                    'time_seconds': None\n",
    "                }\n",
    "                if exercise['exercise_type'] == 'strength':\n",
    "                    detail['reps_completed'] = random.choice([8, 10, 12, 15])\n",
    "                    detail['weight_kg'] = round(random.uniform(5.0, 100.0) / 2.5) * 2.5 # Simulate plate increments\n",
    "                else: # cardio, plyo, stretch\n",
    "                    detail['time_seconds'] = random.choice([30, 45, 60, 90])\n",
    "                \n",
    "                details_data.append(detail)\n",
    "                detail_id_counter += 1\n",
    "            \n",
    "            log_id_counter += 1\n",
    "            \n",
    "    return pd.DataFrame(logs_data), pd.DataFrame(details_data)"
   ]
  },
  {
   "cell_type": "code",
   "execution_count": 11,
   "id": "c26aed05",
   "metadata": {},
   "outputs": [],
   "source": [
    "def generate_user_progress(user_ids):\n",
    "    print(\"Generating user progress data...\")\n",
    "    data = []\n",
    "    progress_id_counter = 1\n",
    "    for user_id in user_ids:\n",
    "        num_entries = random.randint(5, AVG_PROGRESS_ENTRIES_PER_USER + 5)\n",
    "        start_weight = round(random.uniform(50.0, 110.0), 1)\n",
    "        for i in range(num_entries):\n",
    "            data.append({\n",
    "                'id': progress_id_counter,\n",
    "                'user_id': user_id,\n",
    "                'log_date': fake.date_between(start_date=f'-{num_entries-i}w', end_date=f'-{num_entries-i-1}w'),\n",
    "                'weight_kg': round(start_weight - (i * random.uniform(-0.5, 0.7)), 1), # Simulates weight fluctuation\n",
    "                'body_fat_percentage': round(random.uniform(10.0, 35.0) - (i * 0.1), 1),\n",
    "                'measurements': f'{{\"waist_cm\": {random.randint(70,100)}, \"chest_cm\": {random.randint(90,120)}}}'\n",
    "            })\n",
    "            progress_id_counter += 1\n",
    "    return pd.DataFrame(data)"
   ]
  },
  {
   "cell_type": "code",
   "execution_count": 13,
   "id": "05b28fdd",
   "metadata": {},
   "outputs": [
    {
     "data": {
      "text/plain": [
       "'if __name__ == \"__main__\":\\n    # Generate data\\n    exercises_df = generate_exercises(NUM_EXERCISES)\\n    users_df = generate_users(NUM_USERS)\\n    user_profiles_df = generate_user_profiles(users_df[\\'id\\'])\\n    workout_logs_df, workout_log_details_df = generate_workout_logs_and_details(users_df[\\'id\\'], exercises_df)\\n    user_progress_df = generate_user_progress(users_df[\\'id\\'])\\n\\n    # Save to CSV files\\n    print(\"\\nSaving data to CSV files...\")\\n    exercises_df.to_csv(\\'exercises.csv\\', index=False)\\n    users_df.to_csv(\\'users.csv\\', index=False)\\n    user_profiles_df.to_csv(\\'user_profiles.csv\\', index=False)\\n    workout_logs_df.to_csv(\\'workout_logs.csv\\', index=False)\\n    workout_log_details_df.to_csv(\\'workout_log_details.csv\\', index=False)\\n    user_progress_df.to_csv(\\'user_progress.csv\\', index=False)\\n    \\n    print(\"\\nData generation complete! Check for the .csv files in this directory.\")'"
      ]
     },
     "execution_count": 13,
     "metadata": {},
     "output_type": "execute_result"
    }
   ],
   "source": [
    "\"\"\"if __name__ == \"__main__\":\n",
    "    # Generate data\n",
    "    exercises_df = generate_exercises(NUM_EXERCISES)\n",
    "    users_df = generate_users(NUM_USERS)\n",
    "    user_profiles_df = generate_user_profiles(users_df['id'])\n",
    "    workout_logs_df, workout_log_details_df = generate_workout_logs_and_details(users_df['id'], exercises_df)\n",
    "    user_progress_df = generate_user_progress(users_df['id'])\n",
    "\n",
    "    # Save to CSV files\n",
    "    print(\"\\nSaving data to CSV files...\")\n",
    "    exercises_df.to_csv('exercises.csv', index=False)\n",
    "    users_df.to_csv('users.csv', index=False)\n",
    "    user_profiles_df.to_csv('user_profiles.csv', index=False)\n",
    "    workout_logs_df.to_csv('workout_logs.csv', index=False)\n",
    "    workout_log_details_df.to_csv('workout_log_details.csv', index=False)\n",
    "    user_progress_df.to_csv('user_progress.csv', index=False)\n",
    "    \n",
    "    print(\"\\nData generation complete! Check for the .csv files in this directory.\")\"\"\""
   ]
  }
 ],
 "metadata": {
  "kernelspec": {
   "display_name": "Python 3",
   "language": "python",
   "name": "python3"
  },
  "language_info": {
   "codemirror_mode": {
    "name": "ipython",
    "version": 3
   },
   "file_extension": ".py",
   "mimetype": "text/x-python",
   "name": "python",
   "nbconvert_exporter": "python",
   "pygments_lexer": "ipython3",
   "version": "3.10.11"
  }
 },
 "nbformat": 4,
 "nbformat_minor": 5
}
